{
 "cells": [
  {
   "cell_type": "code",
   "execution_count": 21,
   "metadata": {},
   "outputs": [],
   "source": [
    "import pandas as pd\n",
    "import warnings\n",
    "import requests\n",
    "import os\n",
    "import subprocess\n",
    "import whisper\n",
    "import shutil\n",
    "\n",
    "warnings.filterwarnings('ignore')"
   ]
  },
  {
   "cell_type": "code",
   "execution_count": 11,
   "metadata": {},
   "outputs": [],
   "source": [
    "df = pd.read_csv('../raw_data/data_rotulada_final_2L.csv')"
   ]
  },
  {
   "cell_type": "code",
   "execution_count": 17,
   "metadata": {},
   "outputs": [
    {
     "data": {
      "text/plain": [
       "3451"
      ]
     },
     "execution_count": 17,
     "metadata": {},
     "output_type": "execute_result"
    }
   ],
   "source": [
    "df['video_id'].nunique()"
   ]
  },
  {
   "cell_type": "markdown",
   "metadata": {},
   "source": [
    "# Filtragem dos vídeos disponíveis"
   ]
  },
  {
   "cell_type": "markdown",
   "metadata": {},
   "source": [
    "O primeiro passo que precisamos fazer é filtrar os vídeos que estão no nosso dataset para sabermos quais ainda estão disponíveis no Youtube."
   ]
  },
  {
   "cell_type": "code",
   "execution_count": null,
   "metadata": {},
   "outputs": [],
   "source": [
    "def check_video_availability(video_id):\n",
    "    url = f\"https://www.youtube.com/oembed?url=https://www.youtube.com/watch?v={video_id}&format=json\"\n",
    "    response = requests.get(url)\n",
    "    \n",
    "    return response.status_code == 200"
   ]
  },
  {
   "cell_type": "code",
   "execution_count": 13,
   "metadata": {},
   "outputs": [],
   "source": [
    "def save_progress(valid_videos, invalid_videos):\n",
    "    \"\"\"Salva os vídeos válidos e inválidos em arquivos CSV separados.\"\"\"\n",
    "    valid_videos.to_csv(\"../filtrated_data_log/valid_videos.csv\", index=False)\n",
    "    invalid_videos.to_csv(\"../filtrated_data_log/invalid_videos.csv\", index=False)"
   ]
  },
  {
   "cell_type": "code",
   "execution_count": 14,
   "metadata": {},
   "outputs": [],
   "source": [
    "def load_progress():\n",
    "    \"\"\"Carrega o progresso de vídeos válidos e inválidos (se houver).\"\"\"\n",
    "    try:\n",
    "        valid_videos = pd.read_csv(\"../filtrated_data_log/valid_videos.csv\")\n",
    "    except FileNotFoundError:\n",
    "        valid_videos = pd.DataFrame(columns=[\"video_id\"])\n",
    "    \n",
    "    try:\n",
    "        invalid_videos = pd.read_csv(\"../filtrated_data_log/invalid_videos.csv\")\n",
    "    except FileNotFoundError:\n",
    "        invalid_videos = pd.DataFrame(columns=[\"video_id\"])\n",
    "    \n",
    "    return valid_videos, invalid_videos"
   ]
  },
  {
   "cell_type": "code",
   "execution_count": null,
   "metadata": {},
   "outputs": [],
   "source": [
    "valid_videos, invalid_videos = load_progress()"
   ]
  },
  {
   "cell_type": "code",
   "execution_count": null,
   "metadata": {},
   "outputs": [],
   "source": [
    "for video_id in df['video_id'].drop_duplicates():\n",
    "    if video_id not in valid_videos[\"video_id\"].values and video_id not in invalid_videos[\"video_id\"].values:\n",
    "        status = check_video_availability(video_id)\n",
    "        \n",
    "        if status is not None:\n",
    "            new_row = pd.DataFrame({\"video_id\": [video_id]})\n",
    "            if status:\n",
    "                valid_videos = pd.concat([valid_videos, new_row], ignore_index=True)\n",
    "                print(f\"O vídeo {video_id} está disponível.\")\n",
    "            else:\n",
    "                invalid_videos = pd.concat([invalid_videos, new_row], ignore_index=True)\n",
    "                print(f\"O vídeo {video_id} foi removido ou está indisponível.\")\n",
    "        \n",
    "        save_progress(valid_videos, invalid_videos)"
   ]
  },
  {
   "cell_type": "markdown",
   "metadata": {},
   "source": [
    "# Filtrar todos os dados dos vídeos disponíveis"
   ]
  },
  {
   "cell_type": "markdown",
   "metadata": {},
   "source": [
    "O objetivo desse bloco é verificar as informações dos vídeos que estão disponíveis, para isso, eu deixei o dataset com os dados dos vídeos, como título, descrição e etc. Com isso, conseguimos fazer análises sobre a quantidade de vídeos favoráveis/contrários entre outras."
   ]
  },
  {
   "cell_type": "code",
   "execution_count": 24,
   "metadata": {},
   "outputs": [],
   "source": [
    "# df_dados = pd.read_csv('../raw_data/videos_info_clean.csv')\n",
    "df_filtro = pd.read_csv('../filtrated_data_log/valid_videos.csv')"
   ]
  },
  {
   "cell_type": "code",
   "execution_count": 25,
   "metadata": {},
   "outputs": [],
   "source": [
    "df['video_id'] = df['video_id'].astype(str)\n",
    "df_filtro['video_id'] = df_filtro['video_id'].astype(str)"
   ]
  },
  {
   "cell_type": "code",
   "execution_count": 26,
   "metadata": {},
   "outputs": [],
   "source": [
    "dados_filtrados = df[df['video_id'].isin(df_filtro['video_id'])]"
   ]
  },
  {
   "cell_type": "code",
   "execution_count": 28,
   "metadata": {},
   "outputs": [
    {
     "data": {
      "text/html": [
       "<div>\n",
       "<style scoped>\n",
       "    .dataframe tbody tr th:only-of-type {\n",
       "        vertical-align: middle;\n",
       "    }\n",
       "\n",
       "    .dataframe tbody tr th {\n",
       "        vertical-align: top;\n",
       "    }\n",
       "\n",
       "    .dataframe thead th {\n",
       "        text-align: right;\n",
       "    }\n",
       "</style>\n",
       "<table border=\"1\" class=\"dataframe\">\n",
       "  <thead>\n",
       "    <tr style=\"text-align: right;\">\n",
       "      <th></th>\n",
       "      <th>Unnamed: 0</th>\n",
       "      <th>video_id</th>\n",
       "      <th>comment_id</th>\n",
       "      <th>author</th>\n",
       "      <th>author_profile_image_url</th>\n",
       "      <th>author_channel_url</th>\n",
       "      <th>author_channel_id</th>\n",
       "      <th>text</th>\n",
       "      <th>published_at</th>\n",
       "      <th>updated_at</th>\n",
       "      <th>...</th>\n",
       "      <th>viewer_rating</th>\n",
       "      <th>can_rate</th>\n",
       "      <th>is_reply</th>\n",
       "      <th>parent_id</th>\n",
       "      <th>channel_id</th>\n",
       "      <th>language</th>\n",
       "      <th>language_langdetect</th>\n",
       "      <th>label_llama3.1</th>\n",
       "      <th>label_roberta</th>\n",
       "      <th>label</th>\n",
       "    </tr>\n",
       "  </thead>\n",
       "  <tbody>\n",
       "    <tr>\n",
       "      <th>0</th>\n",
       "      <td>0</td>\n",
       "      <td>EMkU6IJSS4k</td>\n",
       "      <td>UgzodyqhxQCoKjflca94AaABAg</td>\n",
       "      <td>@neto.46</td>\n",
       "      <td>https://yt3.ggpht.com/ytc/AIdro_nV3tOuBE_fgYKR...</td>\n",
       "      <td>http://www.youtube.com/@neto.46</td>\n",
       "      <td>UC2ul86IJ-WnSHEQy9R8pR7Q</td>\n",
       "      <td>pessoas que acreditam nesses jogos são trouxas...</td>\n",
       "      <td>2024-06-30 23:04:00+00:00</td>\n",
       "      <td>2024-06-30T23:04:00Z</td>\n",
       "      <td>...</td>\n",
       "      <td>none</td>\n",
       "      <td>True</td>\n",
       "      <td>False</td>\n",
       "      <td>NaN</td>\n",
       "      <td>UCaGmdJSSiR7fkh2A-c6emsA</td>\n",
       "      <td>pt</td>\n",
       "      <td>NaN</td>\n",
       "      <td>0</td>\n",
       "      <td>0</td>\n",
       "      <td>0</td>\n",
       "    </tr>\n",
       "    <tr>\n",
       "      <th>1</th>\n",
       "      <td>2</td>\n",
       "      <td>EMkU6IJSS4k</td>\n",
       "      <td>UgxT8qjVDcUBKSumdoh4AaABAg</td>\n",
       "      <td>@eduardomacapol5893</td>\n",
       "      <td>https://yt3.ggpht.com/ytc/AIdro_nta6z5KQYI-gru...</td>\n",
       "      <td>http://www.youtube.com/@eduardomacapol5893</td>\n",
       "      <td>UCuWHlFoFOGb0c08FjGhRScg</td>\n",
       "      <td>Mais prejudicial do que esses jogos é a midia ...</td>\n",
       "      <td>2024-06-30 22:38:47+00:00</td>\n",
       "      <td>2024-06-30T22:38:47Z</td>\n",
       "      <td>...</td>\n",
       "      <td>none</td>\n",
       "      <td>True</td>\n",
       "      <td>False</td>\n",
       "      <td>NaN</td>\n",
       "      <td>UCaGmdJSSiR7fkh2A-c6emsA</td>\n",
       "      <td>pt</td>\n",
       "      <td>NaN</td>\n",
       "      <td>0</td>\n",
       "      <td>0</td>\n",
       "      <td>0</td>\n",
       "    </tr>\n",
       "    <tr>\n",
       "      <th>2</th>\n",
       "      <td>3</td>\n",
       "      <td>EMkU6IJSS4k</td>\n",
       "      <td>UgwcgM5w4EHgT3be5Yx4AaABAg</td>\n",
       "      <td>@josealvaro-bc7zv</td>\n",
       "      <td>https://yt3.ggpht.com/ytc/AIdro_nQWtDjnkGaIYmO...</td>\n",
       "      <td>http://www.youtube.com/@josealvaro-bc7zv</td>\n",
       "      <td>UCxeyqepx5lCqCS2XYJVl_hg</td>\n",
       "      <td>,,,, prender essa gente toda ao dizer quem são...</td>\n",
       "      <td>2024-06-30 22:28:55+00:00</td>\n",
       "      <td>2024-06-30T22:28:55Z</td>\n",
       "      <td>...</td>\n",
       "      <td>none</td>\n",
       "      <td>True</td>\n",
       "      <td>False</td>\n",
       "      <td>NaN</td>\n",
       "      <td>UCaGmdJSSiR7fkh2A-c6emsA</td>\n",
       "      <td>pt</td>\n",
       "      <td>NaN</td>\n",
       "      <td>0</td>\n",
       "      <td>0</td>\n",
       "      <td>0</td>\n",
       "    </tr>\n",
       "    <tr>\n",
       "      <th>3</th>\n",
       "      <td>6</td>\n",
       "      <td>EMkU6IJSS4k</td>\n",
       "      <td>UgyoIIKIadGYM3nvC5F4AaABAg</td>\n",
       "      <td>@fernandojunior8700</td>\n",
       "      <td>https://yt3.ggpht.com/ytc/AIdro_knA9dAYsVClGS8...</td>\n",
       "      <td>http://www.youtube.com/@fernandojunior8700</td>\n",
       "      <td>UCjCSM9V-ETEbMfijKM7KccA</td>\n",
       "      <td>Joga quem quer, a pessoa que divulga não tem n...</td>\n",
       "      <td>2024-06-30 22:00:50+00:00</td>\n",
       "      <td>2024-06-30T22:00:50Z</td>\n",
       "      <td>...</td>\n",
       "      <td>none</td>\n",
       "      <td>True</td>\n",
       "      <td>False</td>\n",
       "      <td>NaN</td>\n",
       "      <td>UCaGmdJSSiR7fkh2A-c6emsA</td>\n",
       "      <td>pt</td>\n",
       "      <td>NaN</td>\n",
       "      <td>0</td>\n",
       "      <td>0</td>\n",
       "      <td>0</td>\n",
       "    </tr>\n",
       "    <tr>\n",
       "      <th>4</th>\n",
       "      <td>8</td>\n",
       "      <td>EMkU6IJSS4k</td>\n",
       "      <td>UgyMjIrRXF6z1rAhuF94AaABAg</td>\n",
       "      <td>@vagnercarvalhosaraiva4426</td>\n",
       "      <td>https://yt3.ggpht.com/ytc/AIdro_mvsJmN2LFaOFOV...</td>\n",
       "      <td>http://www.youtube.com/@vagnercarvalhosaraiva4426</td>\n",
       "      <td>UCec0yjiQKsz31_nw8MOOA5A</td>\n",
       "      <td>assim q lula ladrão estiver taxando o tigrinho...</td>\n",
       "      <td>2024-06-30 21:30:05+00:00</td>\n",
       "      <td>2024-06-30T21:30:05Z</td>\n",
       "      <td>...</td>\n",
       "      <td>none</td>\n",
       "      <td>True</td>\n",
       "      <td>False</td>\n",
       "      <td>NaN</td>\n",
       "      <td>UCaGmdJSSiR7fkh2A-c6emsA</td>\n",
       "      <td>pt</td>\n",
       "      <td>NaN</td>\n",
       "      <td>0</td>\n",
       "      <td>0</td>\n",
       "      <td>0</td>\n",
       "    </tr>\n",
       "  </tbody>\n",
       "</table>\n",
       "<p>5 rows × 21 columns</p>\n",
       "</div>"
      ],
      "text/plain": [
       "   Unnamed: 0     video_id                  comment_id  \\\n",
       "0           0  EMkU6IJSS4k  UgzodyqhxQCoKjflca94AaABAg   \n",
       "1           2  EMkU6IJSS4k  UgxT8qjVDcUBKSumdoh4AaABAg   \n",
       "2           3  EMkU6IJSS4k  UgwcgM5w4EHgT3be5Yx4AaABAg   \n",
       "3           6  EMkU6IJSS4k  UgyoIIKIadGYM3nvC5F4AaABAg   \n",
       "4           8  EMkU6IJSS4k  UgyMjIrRXF6z1rAhuF94AaABAg   \n",
       "\n",
       "                       author  \\\n",
       "0                    @neto.46   \n",
       "1         @eduardomacapol5893   \n",
       "2           @josealvaro-bc7zv   \n",
       "3         @fernandojunior8700   \n",
       "4  @vagnercarvalhosaraiva4426   \n",
       "\n",
       "                            author_profile_image_url  \\\n",
       "0  https://yt3.ggpht.com/ytc/AIdro_nV3tOuBE_fgYKR...   \n",
       "1  https://yt3.ggpht.com/ytc/AIdro_nta6z5KQYI-gru...   \n",
       "2  https://yt3.ggpht.com/ytc/AIdro_nQWtDjnkGaIYmO...   \n",
       "3  https://yt3.ggpht.com/ytc/AIdro_knA9dAYsVClGS8...   \n",
       "4  https://yt3.ggpht.com/ytc/AIdro_mvsJmN2LFaOFOV...   \n",
       "\n",
       "                                  author_channel_url  \\\n",
       "0                    http://www.youtube.com/@neto.46   \n",
       "1         http://www.youtube.com/@eduardomacapol5893   \n",
       "2           http://www.youtube.com/@josealvaro-bc7zv   \n",
       "3         http://www.youtube.com/@fernandojunior8700   \n",
       "4  http://www.youtube.com/@vagnercarvalhosaraiva4426   \n",
       "\n",
       "          author_channel_id  \\\n",
       "0  UC2ul86IJ-WnSHEQy9R8pR7Q   \n",
       "1  UCuWHlFoFOGb0c08FjGhRScg   \n",
       "2  UCxeyqepx5lCqCS2XYJVl_hg   \n",
       "3  UCjCSM9V-ETEbMfijKM7KccA   \n",
       "4  UCec0yjiQKsz31_nw8MOOA5A   \n",
       "\n",
       "                                                text  \\\n",
       "0  pessoas que acreditam nesses jogos são trouxas...   \n",
       "1  Mais prejudicial do que esses jogos é a midia ...   \n",
       "2  ,,,, prender essa gente toda ao dizer quem são...   \n",
       "3  Joga quem quer, a pessoa que divulga não tem n...   \n",
       "4  assim q lula ladrão estiver taxando o tigrinho...   \n",
       "\n",
       "                published_at            updated_at  ...  viewer_rating  \\\n",
       "0  2024-06-30 23:04:00+00:00  2024-06-30T23:04:00Z  ...           none   \n",
       "1  2024-06-30 22:38:47+00:00  2024-06-30T22:38:47Z  ...           none   \n",
       "2  2024-06-30 22:28:55+00:00  2024-06-30T22:28:55Z  ...           none   \n",
       "3  2024-06-30 22:00:50+00:00  2024-06-30T22:00:50Z  ...           none   \n",
       "4  2024-06-30 21:30:05+00:00  2024-06-30T21:30:05Z  ...           none   \n",
       "\n",
       "  can_rate  is_reply  parent_id                channel_id language  \\\n",
       "0     True     False        NaN  UCaGmdJSSiR7fkh2A-c6emsA       pt   \n",
       "1     True     False        NaN  UCaGmdJSSiR7fkh2A-c6emsA       pt   \n",
       "2     True     False        NaN  UCaGmdJSSiR7fkh2A-c6emsA       pt   \n",
       "3     True     False        NaN  UCaGmdJSSiR7fkh2A-c6emsA       pt   \n",
       "4     True     False        NaN  UCaGmdJSSiR7fkh2A-c6emsA       pt   \n",
       "\n",
       "  language_langdetect label_llama3.1  label_roberta  label  \n",
       "0                 NaN              0              0      0  \n",
       "1                 NaN              0              0      0  \n",
       "2                 NaN              0              0      0  \n",
       "3                 NaN              0              0      0  \n",
       "4                 NaN              0              0      0  \n",
       "\n",
       "[5 rows x 21 columns]"
      ]
     },
     "execution_count": 28,
     "metadata": {},
     "output_type": "execute_result"
    }
   ],
   "source": [
    "dados_filtrados.to_csv('../filtrated_data_log/videos_filtrados.csv', index=False)\n",
    "dados_filtrados.head()"
   ]
  },
  {
   "cell_type": "markdown",
   "metadata": {},
   "source": [
    "# Fazendo o download dos vídeos"
   ]
  },
  {
   "cell_type": "code",
   "execution_count": 32,
   "metadata": {},
   "outputs": [],
   "source": [
    "# Configurações\n",
    "audio_folder = \"../audios/\"\n",
    "log_file = \"../download_log/download_progress.log\"\n",
    "csv_file = \"../filtrated_data_log/valid_videos.csv\""
   ]
  },
  {
   "cell_type": "code",
   "execution_count": null,
   "metadata": {},
   "outputs": [],
   "source": [
    "def load_progress():\n",
    "    if os.path.exists(log_file):\n",
    "        with open(log_file, \"r\") as f:\n",
    "            return set(f.read().splitlines())\n",
    "    return set()\n",
    "\n",
    "def save_progress(video_id):\n",
    "    with open(log_file, \"a\") as f:\n",
    "        f.write(video_id + \"\\n\")"
   ]
  },
  {
   "cell_type": "code",
   "execution_count": null,
   "metadata": {},
   "outputs": [],
   "source": [
    "df = pd.read_csv(csv_file)\n",
    "video_ids = df[\"video_id\"].astype(str).tolist()"
   ]
  },
  {
   "cell_type": "code",
   "execution_count": 35,
   "metadata": {},
   "outputs": [],
   "source": [
    "completed_videos = load_progress()"
   ]
  },
  {
   "cell_type": "code",
   "execution_count": null,
   "metadata": {},
   "outputs": [
    {
     "name": "stdout",
     "output_type": "stream",
     "text": [
      "Baixando áudio de https://www.youtube.com/watch?v=EMkU6IJSS4k...\n",
      "Download concluído: ../audios/EMkU6IJSS4k.mp3\n",
      "Baixando áudio de https://www.youtube.com/watch?v=5fXght1EiwI...\n",
      "Download concluído: ../audios/5fXght1EiwI.mp3\n",
      "Baixando áudio de https://www.youtube.com/watch?v=Zgzrijrbex4...\n",
      "Download concluído: ../audios/Zgzrijrbex4.mp3\n",
      "Baixando áudio de https://www.youtube.com/watch?v=KkIc58ZvdSA...\n"
     ]
    }
   ],
   "source": [
    "for video_id in video_ids:\n",
    "    audio_path = os.path.join(audio_folder, f\"{video_id}.mp3\")\n",
    "\n",
    "    # Se já foi baixado, pula\n",
    "    if video_id in completed_videos or os.path.exists(audio_path):\n",
    "        print(f\"Áudio já baixado: {audio_path}\")\n",
    "        continue\n",
    "\n",
    "    url = f\"https://www.youtube.com/watch?v={video_id}\"\n",
    "    print(f\"Baixando áudio de {url}...\")\n",
    "\n",
    "    try:\n",
    "        result = subprocess.run(\n",
    "            [\"yt-dlp\", \"-f\", \"bestaudio\", \"--extract-audio\", \"--audio-format\", \"mp3\",\n",
    "             \"-o\", f\"{audio_folder}/%(id)s.%(ext)s\", url],\n",
    "            check=True, text=True, capture_output=True\n",
    "        )\n",
    "        print(f\"Download concluído: {audio_path}\")\n",
    "        save_progress(video_id)\n",
    "\n",
    "    except subprocess.CalledProcessError as e:\n",
    "        print(f\"Erro ao baixar {video_id}: {e.stderr}\")\n",
    "\n",
    "print(\"Processo de download concluído!\")"
   ]
  },
  {
   "cell_type": "markdown",
   "metadata": {},
   "source": [
    "# Transcrever os Áudios"
   ]
  },
  {
   "cell_type": "code",
   "execution_count": null,
   "metadata": {},
   "outputs": [],
   "source": [
    "audio_folder = \"../audios/\"\n",
    "transcription_folder = \"../transcriptions\"\n",
    "log_file = \"../download_log/progresso_transcricao.log\""
   ]
  },
  {
   "cell_type": "code",
   "execution_count": 14,
   "metadata": {},
   "outputs": [],
   "source": [
    "df = pd.read_csv(\"../raw_data/data_rotulada_final_2L.csv\")\n",
    "video_ids = df[\"video_id\"].drop_duplicates().tolist()"
   ]
  },
  {
   "cell_type": "code",
   "execution_count": 15,
   "metadata": {},
   "outputs": [],
   "source": [
    "def load_progress():\n",
    "    if os.path.exists(log_file):\n",
    "        with open(log_file, \"r\") as f:\n",
    "            return set(f.read().splitlines())\n",
    "    return set()\n",
    "\n",
    "def save_progress(video_id):\n",
    "    with open(log_file, \"a\") as f:\n",
    "        f.write(video_id + \"\\n\")"
   ]
  },
  {
   "cell_type": "code",
   "execution_count": 16,
   "metadata": {},
   "outputs": [],
   "source": [
    "completed_videos = load_progress()"
   ]
  },
  {
   "cell_type": "code",
   "execution_count": 17,
   "metadata": {},
   "outputs": [],
   "source": [
    "modelo = whisper.load_model(\"small\").to(\"cuda\")"
   ]
  },
  {
   "cell_type": "code",
   "execution_count": null,
   "metadata": {},
   "outputs": [],
   "source": [
    "for video_id in df['video_id'].drop_duplicates():\n",
    "    audio_path = os.path.join(audio_folder, f\"{video_id}.mp3\")\n",
    "    output_text = os.path.join(transcription_folder, f\"{video_id}.txt\")\n",
    "    zip_audio_base = os.path.join(audio_folder, video_id)  # Sem extensão\n",
    "\n",
    "    # Se já foi transcrito, pula\n",
    "    if video_id in completed_videos or os.path.exists(output_text):\n",
    "        print(f\"Transcrição já feita para {video_id}\")\n",
    "        continue\n",
    "\n",
    "    if not os.path.exists(audio_path):\n",
    "        print(f\"Áudio não encontrado para {video_id}, pulando...\")\n",
    "        continue\n",
    "\n",
    "    print(f\"Transcrevendo {audio_path}...\")\n",
    "\n",
    "    try:\n",
    "        result = modelo.transcribe(audio_path, language=\"portuguese\")\n",
    "\n",
    "        with open(output_text, \"w\", encoding=\"utf-8\") as f:\n",
    "            f.write(result[\"text\"])\n",
    "\n",
    "        save_progress(video_id)\n",
    "        print(f\"Transcrição salva: {output_text}\")\n",
    "\n",
    "        # Compacta apenas o arquivo MP3\n",
    "        shutil.make_archive(zip_audio_base, 'zip', audio_folder, f\"{video_id}.mp3\")\n",
    "        print(f\"Áudio compactado: {zip_audio_base}.zip\")\n",
    "        \n",
    "        os.remove(audio_path)\n",
    "        print(f\"Áudio excluído: {audio_path}\")\n",
    "\n",
    "    except Exception as e:\n",
    "        print(f\"Erro ao transcrever {video_id}: {str(e)}\")\n",
    "\n",
    "print(\"Processo de transcrição concluído!\")"
   ]
  }
 ],
 "metadata": {
  "kernelspec": {
   "display_name": "transcription_venv",
   "language": "python",
   "name": "python3"
  },
  "language_info": {
   "codemirror_mode": {
    "name": "ipython",
    "version": 3
   },
   "file_extension": ".py",
   "mimetype": "text/x-python",
   "name": "python",
   "nbconvert_exporter": "python",
   "pygments_lexer": "ipython3",
   "version": "3.9.10"
  }
 },
 "nbformat": 4,
 "nbformat_minor": 2
}
